{
 "cells": [
  {
   "cell_type": "markdown",
   "metadata": {},
   "source": [
    "# Text Classification Assessment\n",
    "\n",
    "This assessment is a text classification project where the goal is to classify the genre of a movie based on its characteristics, primarily the text of the plot summarization. You have a training set of data that you will use to identify and create your best predicting model. Then you will use that model to predict the classes of the test set of data. We will compare the performance of your predictions to your classmates using the F1 Score. https://scikit-learn.org/stable/modules/generated/sklearn.metrics.f1_score.html\n",
    "\n",
    "The **movie_train.csv** dataset contains information (`Release Year`, `Title`, `Plot`, `Director`, `Cast`) about 10,682 movies and the label of `Genre`. There are 9 different genres in this data set, so this is a multiclass problem. You are expected to primarily use the plot column, but can use the additional columns as you see fit.\n",
    "\n",
    "After you have identified yoru best performing model, you will create predictions for the test set of data. The test set of data, contains 3,561 movies with all of their information except the `Genre`. \n",
    "\n",
    "Below is a list of tasks that you will definitely want to complete for this challenge, but this list is not exhaustive. It does not include any tasds around handling class imbalance or about how to test multiple different models and their tuning parameters, but you should still look at doing those to see if they help you to create a better predictive model.\n",
    "\n",
    "\n",
    "# Good Luck"
   ]
  },
  {
   "cell_type": "code",
   "execution_count": 3,
   "metadata": {},
   "outputs": [
    {
     "name": "stderr",
     "output_type": "stream",
     "text": [
      "Using TensorFlow backend.\n"
     ]
    },
    {
     "data": {
      "text/html": [
       "        <script type=\"text/javascript\">\n",
       "        window.PlotlyConfig = {MathJaxConfig: 'local'};\n",
       "        if (window.MathJax) {MathJax.Hub.Config({SVG: {font: \"STIX-Web\"}});}\n",
       "        if (typeof require !== 'undefined') {\n",
       "        require.undef(\"plotly\");\n",
       "        requirejs.config({\n",
       "            paths: {\n",
       "                'plotly': ['https://cdn.plot.ly/plotly-latest.min']\n",
       "            }\n",
       "        });\n",
       "        require(['plotly'], function(Plotly) {\n",
       "            window._Plotly = Plotly;\n",
       "        });\n",
       "        }\n",
       "        </script>\n",
       "        "
      ]
     },
     "metadata": {},
     "output_type": "display_data"
    }
   ],
   "source": [
    "import numpy as np \n",
    "import pandas as pd\n",
    "import matplotlib.pyplot as plt\n",
    "import seaborn as sns\n",
    "from keras.preprocessing.text import Tokenizer\n",
    "from keras.preprocessing.sequence import pad_sequences\n",
    "from keras.models import Sequential\n",
    "from keras.layers import Dense, Embedding, LSTM, SpatialDropout1D\n",
    "from sklearn.model_selection import train_test_split\n",
    "from keras.utils.np_utils import to_categorical\n",
    "from keras.callbacks import EarlyStopping\n",
    "from keras.layers import Dropout\n",
    "import re\n",
    "from nltk.corpus import stopwords\n",
    "from nltk import word_tokenize\n",
    "STOPWORDS = set(stopwords.words('english'))\n",
    "from bs4 import BeautifulSoup\n",
    "\n",
    "import cufflinks\n",
    "from IPython.core.interactiveshell import InteractiveShell\n",
    "import plotly.figure_factory as ff\n",
    "InteractiveShell.ast_node_interactivity = 'all'\n",
    "cufflinks.go_offline()\n",
    "cufflinks.set_config_file(world_readable=True, theme='pearl')"
   ]
  },
  {
   "cell_type": "code",
   "execution_count": 4,
   "metadata": {},
   "outputs": [],
   "source": [
    "from nltk.corpus import RegexpTokenizer as regextoken"
   ]
  },
  {
   "cell_type": "code",
   "execution_count": 6,
   "metadata": {},
   "outputs": [],
   "source": [
    "from keras.preprocessing.text import Tokenizer\n",
    "from sklearn.preprocessing import LabelEncoder\n",
    "from keras.utils import to_categorical\n",
    "from keras.preprocessing.sequence import pad_sequences\n",
    "import gensim\n",
    "from gensim.models.keyedvectors import KeyedVectors\n",
    "from keras.models import Sequential\n",
    "from keras.models import Model\n",
    "from keras.layers import Dense, Flatten, Embedding, Conv1D, MaxPooling1D, Dropout, LSTM, GRU\n",
    "from keras.regularizers import l1, l2\n",
    "from sklearn.metrics import classification_report\n",
    "import warnings\n",
    "warnings.filterwarnings(\"ignore\")\n"
   ]
  },
  {
   "cell_type": "code",
   "execution_count": 7,
   "metadata": {},
   "outputs": [],
   "source": [
    "from chart_studio.plotly import iplot"
   ]
  },
  {
   "cell_type": "code",
   "execution_count": 8,
   "metadata": {},
   "outputs": [],
   "source": [
    "from imblearn.over_sampling import SMOTE"
   ]
  },
  {
   "cell_type": "code",
   "execution_count": null,
   "metadata": {},
   "outputs": [],
   "source": []
  },
  {
   "cell_type": "markdown",
   "metadata": {},
   "source": [
    "### Task #1: Perform imports and load the dataset into a pandas DataFrame\n"
   ]
  },
  {
   "cell_type": "code",
   "execution_count": 9,
   "metadata": {},
   "outputs": [],
   "source": [
    "import pandas as pd\n",
    "train = pd.read_csv('movie_train.csv')"
   ]
  },
  {
   "cell_type": "code",
   "execution_count": 10,
   "metadata": {},
   "outputs": [],
   "source": [
    "test = pd.read_csv('movie_test.csv')"
   ]
  },
  {
   "cell_type": "markdown",
   "metadata": {},
   "source": [
    "### Task #2: Check for missing values:"
   ]
  },
  {
   "cell_type": "code",
   "execution_count": 9,
   "metadata": {},
   "outputs": [
    {
     "data": {
      "text/plain": [
       "drama        3770\n",
       "comedy       2724\n",
       "horror        840\n",
       "action        830\n",
       "thriller      685\n",
       "romance       649\n",
       "western       525\n",
       "adventure     331\n",
       "crime         328\n",
       "Name: Genre, dtype: int64"
      ]
     },
     "execution_count": 9,
     "metadata": {},
     "output_type": "execute_result"
    }
   ],
   "source": [
    "train.Genre.value_counts()"
   ]
  },
  {
   "cell_type": "code",
   "execution_count": 24,
   "metadata": {
    "scrolled": true
   },
   "outputs": [
    {
     "data": {
      "application/vnd.plotly.v1+json": {
       "config": {
        "linkText": "Export to plot.ly",
        "plotlyServerURL": "https://plot.ly",
        "showLink": true
       },
       "data": [
        {
         "marker": {
          "color": "rgba(255, 153, 51, 0.6)",
          "line": {
           "color": "rgba(255, 153, 51, 1.0)",
           "width": 1
          }
         },
         "name": "Genre",
         "orientation": "v",
         "text": "",
         "type": "bar",
         "x": [
          "drama",
          "comedy",
          "horror",
          "action",
          "thriller",
          "romance",
          "western",
          "adventure",
          "crime"
         ],
         "y": [
          3770,
          2724,
          840,
          830,
          685,
          649,
          525,
          331,
          328
         ]
        }
       ],
       "layout": {
        "legend": {
         "bgcolor": "#F5F6F9",
         "font": {
          "color": "#4D5663"
         }
        },
        "paper_bgcolor": "#F5F6F9",
        "plot_bgcolor": "#F5F6F9",
        "template": {
         "data": {
          "bar": [
           {
            "error_x": {
             "color": "#2a3f5f"
            },
            "error_y": {
             "color": "#2a3f5f"
            },
            "marker": {
             "line": {
              "color": "#E5ECF6",
              "width": 0.5
             }
            },
            "type": "bar"
           }
          ],
          "barpolar": [
           {
            "marker": {
             "line": {
              "color": "#E5ECF6",
              "width": 0.5
             }
            },
            "type": "barpolar"
           }
          ],
          "carpet": [
           {
            "aaxis": {
             "endlinecolor": "#2a3f5f",
             "gridcolor": "white",
             "linecolor": "white",
             "minorgridcolor": "white",
             "startlinecolor": "#2a3f5f"
            },
            "baxis": {
             "endlinecolor": "#2a3f5f",
             "gridcolor": "white",
             "linecolor": "white",
             "minorgridcolor": "white",
             "startlinecolor": "#2a3f5f"
            },
            "type": "carpet"
           }
          ],
          "choropleth": [
           {
            "colorbar": {
             "outlinewidth": 0,
             "ticks": ""
            },
            "type": "choropleth"
           }
          ],
          "contour": [
           {
            "colorbar": {
             "outlinewidth": 0,
             "ticks": ""
            },
            "colorscale": [
             [
              0,
              "#0d0887"
             ],
             [
              0.1111111111111111,
              "#46039f"
             ],
             [
              0.2222222222222222,
              "#7201a8"
             ],
             [
              0.3333333333333333,
              "#9c179e"
             ],
             [
              0.4444444444444444,
              "#bd3786"
             ],
             [
              0.5555555555555556,
              "#d8576b"
             ],
             [
              0.6666666666666666,
              "#ed7953"
             ],
             [
              0.7777777777777778,
              "#fb9f3a"
             ],
             [
              0.8888888888888888,
              "#fdca26"
             ],
             [
              1,
              "#f0f921"
             ]
            ],
            "type": "contour"
           }
          ],
          "contourcarpet": [
           {
            "colorbar": {
             "outlinewidth": 0,
             "ticks": ""
            },
            "type": "contourcarpet"
           }
          ],
          "heatmap": [
           {
            "colorbar": {
             "outlinewidth": 0,
             "ticks": ""
            },
            "colorscale": [
             [
              0,
              "#0d0887"
             ],
             [
              0.1111111111111111,
              "#46039f"
             ],
             [
              0.2222222222222222,
              "#7201a8"
             ],
             [
              0.3333333333333333,
              "#9c179e"
             ],
             [
              0.4444444444444444,
              "#bd3786"
             ],
             [
              0.5555555555555556,
              "#d8576b"
             ],
             [
              0.6666666666666666,
              "#ed7953"
             ],
             [
              0.7777777777777778,
              "#fb9f3a"
             ],
             [
              0.8888888888888888,
              "#fdca26"
             ],
             [
              1,
              "#f0f921"
             ]
            ],
            "type": "heatmap"
           }
          ],
          "heatmapgl": [
           {
            "colorbar": {
             "outlinewidth": 0,
             "ticks": ""
            },
            "colorscale": [
             [
              0,
              "#0d0887"
             ],
             [
              0.1111111111111111,
              "#46039f"
             ],
             [
              0.2222222222222222,
              "#7201a8"
             ],
             [
              0.3333333333333333,
              "#9c179e"
             ],
             [
              0.4444444444444444,
              "#bd3786"
             ],
             [
              0.5555555555555556,
              "#d8576b"
             ],
             [
              0.6666666666666666,
              "#ed7953"
             ],
             [
              0.7777777777777778,
              "#fb9f3a"
             ],
             [
              0.8888888888888888,
              "#fdca26"
             ],
             [
              1,
              "#f0f921"
             ]
            ],
            "type": "heatmapgl"
           }
          ],
          "histogram": [
           {
            "marker": {
             "colorbar": {
              "outlinewidth": 0,
              "ticks": ""
             }
            },
            "type": "histogram"
           }
          ],
          "histogram2d": [
           {
            "colorbar": {
             "outlinewidth": 0,
             "ticks": ""
            },
            "colorscale": [
             [
              0,
              "#0d0887"
             ],
             [
              0.1111111111111111,
              "#46039f"
             ],
             [
              0.2222222222222222,
              "#7201a8"
             ],
             [
              0.3333333333333333,
              "#9c179e"
             ],
             [
              0.4444444444444444,
              "#bd3786"
             ],
             [
              0.5555555555555556,
              "#d8576b"
             ],
             [
              0.6666666666666666,
              "#ed7953"
             ],
             [
              0.7777777777777778,
              "#fb9f3a"
             ],
             [
              0.8888888888888888,
              "#fdca26"
             ],
             [
              1,
              "#f0f921"
             ]
            ],
            "type": "histogram2d"
           }
          ],
          "histogram2dcontour": [
           {
            "colorbar": {
             "outlinewidth": 0,
             "ticks": ""
            },
            "colorscale": [
             [
              0,
              "#0d0887"
             ],
             [
              0.1111111111111111,
              "#46039f"
             ],
             [
              0.2222222222222222,
              "#7201a8"
             ],
             [
              0.3333333333333333,
              "#9c179e"
             ],
             [
              0.4444444444444444,
              "#bd3786"
             ],
             [
              0.5555555555555556,
              "#d8576b"
             ],
             [
              0.6666666666666666,
              "#ed7953"
             ],
             [
              0.7777777777777778,
              "#fb9f3a"
             ],
             [
              0.8888888888888888,
              "#fdca26"
             ],
             [
              1,
              "#f0f921"
             ]
            ],
            "type": "histogram2dcontour"
           }
          ],
          "mesh3d": [
           {
            "colorbar": {
             "outlinewidth": 0,
             "ticks": ""
            },
            "type": "mesh3d"
           }
          ],
          "parcoords": [
           {
            "line": {
             "colorbar": {
              "outlinewidth": 0,
              "ticks": ""
             }
            },
            "type": "parcoords"
           }
          ],
          "pie": [
           {
            "automargin": true,
            "type": "pie"
           }
          ],
          "scatter": [
           {
            "marker": {
             "colorbar": {
              "outlinewidth": 0,
              "ticks": ""
             }
            },
            "type": "scatter"
           }
          ],
          "scatter3d": [
           {
            "line": {
             "colorbar": {
              "outlinewidth": 0,
              "ticks": ""
             }
            },
            "marker": {
             "colorbar": {
              "outlinewidth": 0,
              "ticks": ""
             }
            },
            "type": "scatter3d"
           }
          ],
          "scattercarpet": [
           {
            "marker": {
             "colorbar": {
              "outlinewidth": 0,
              "ticks": ""
             }
            },
            "type": "scattercarpet"
           }
          ],
          "scattergeo": [
           {
            "marker": {
             "colorbar": {
              "outlinewidth": 0,
              "ticks": ""
             }
            },
            "type": "scattergeo"
           }
          ],
          "scattergl": [
           {
            "marker": {
             "colorbar": {
              "outlinewidth": 0,
              "ticks": ""
             }
            },
            "type": "scattergl"
           }
          ],
          "scattermapbox": [
           {
            "marker": {
             "colorbar": {
              "outlinewidth": 0,
              "ticks": ""
             }
            },
            "type": "scattermapbox"
           }
          ],
          "scatterpolar": [
           {
            "marker": {
             "colorbar": {
              "outlinewidth": 0,
              "ticks": ""
             }
            },
            "type": "scatterpolar"
           }
          ],
          "scatterpolargl": [
           {
            "marker": {
             "colorbar": {
              "outlinewidth": 0,
              "ticks": ""
             }
            },
            "type": "scatterpolargl"
           }
          ],
          "scatterternary": [
           {
            "marker": {
             "colorbar": {
              "outlinewidth": 0,
              "ticks": ""
             }
            },
            "type": "scatterternary"
           }
          ],
          "surface": [
           {
            "colorbar": {
             "outlinewidth": 0,
             "ticks": ""
            },
            "colorscale": [
             [
              0,
              "#0d0887"
             ],
             [
              0.1111111111111111,
              "#46039f"
             ],
             [
              0.2222222222222222,
              "#7201a8"
             ],
             [
              0.3333333333333333,
              "#9c179e"
             ],
             [
              0.4444444444444444,
              "#bd3786"
             ],
             [
              0.5555555555555556,
              "#d8576b"
             ],
             [
              0.6666666666666666,
              "#ed7953"
             ],
             [
              0.7777777777777778,
              "#fb9f3a"
             ],
             [
              0.8888888888888888,
              "#fdca26"
             ],
             [
              1,
              "#f0f921"
             ]
            ],
            "type": "surface"
           }
          ],
          "table": [
           {
            "cells": {
             "fill": {
              "color": "#EBF0F8"
             },
             "line": {
              "color": "white"
             }
            },
            "header": {
             "fill": {
              "color": "#C8D4E3"
             },
             "line": {
              "color": "white"
             }
            },
            "type": "table"
           }
          ]
         },
         "layout": {
          "annotationdefaults": {
           "arrowcolor": "#2a3f5f",
           "arrowhead": 0,
           "arrowwidth": 1
          },
          "coloraxis": {
           "colorbar": {
            "outlinewidth": 0,
            "ticks": ""
           }
          },
          "colorscale": {
           "diverging": [
            [
             0,
             "#8e0152"
            ],
            [
             0.1,
             "#c51b7d"
            ],
            [
             0.2,
             "#de77ae"
            ],
            [
             0.3,
             "#f1b6da"
            ],
            [
             0.4,
             "#fde0ef"
            ],
            [
             0.5,
             "#f7f7f7"
            ],
            [
             0.6,
             "#e6f5d0"
            ],
            [
             0.7,
             "#b8e186"
            ],
            [
             0.8,
             "#7fbc41"
            ],
            [
             0.9,
             "#4d9221"
            ],
            [
             1,
             "#276419"
            ]
           ],
           "sequential": [
            [
             0,
             "#0d0887"
            ],
            [
             0.1111111111111111,
             "#46039f"
            ],
            [
             0.2222222222222222,
             "#7201a8"
            ],
            [
             0.3333333333333333,
             "#9c179e"
            ],
            [
             0.4444444444444444,
             "#bd3786"
            ],
            [
             0.5555555555555556,
             "#d8576b"
            ],
            [
             0.6666666666666666,
             "#ed7953"
            ],
            [
             0.7777777777777778,
             "#fb9f3a"
            ],
            [
             0.8888888888888888,
             "#fdca26"
            ],
            [
             1,
             "#f0f921"
            ]
           ],
           "sequentialminus": [
            [
             0,
             "#0d0887"
            ],
            [
             0.1111111111111111,
             "#46039f"
            ],
            [
             0.2222222222222222,
             "#7201a8"
            ],
            [
             0.3333333333333333,
             "#9c179e"
            ],
            [
             0.4444444444444444,
             "#bd3786"
            ],
            [
             0.5555555555555556,
             "#d8576b"
            ],
            [
             0.6666666666666666,
             "#ed7953"
            ],
            [
             0.7777777777777778,
             "#fb9f3a"
            ],
            [
             0.8888888888888888,
             "#fdca26"
            ],
            [
             1,
             "#f0f921"
            ]
           ]
          },
          "colorway": [
           "#636efa",
           "#EF553B",
           "#00cc96",
           "#ab63fa",
           "#FFA15A",
           "#19d3f3",
           "#FF6692",
           "#B6E880",
           "#FF97FF",
           "#FECB52"
          ],
          "font": {
           "color": "#2a3f5f"
          },
          "geo": {
           "bgcolor": "white",
           "lakecolor": "white",
           "landcolor": "#E5ECF6",
           "showlakes": true,
           "showland": true,
           "subunitcolor": "white"
          },
          "hoverlabel": {
           "align": "left"
          },
          "hovermode": "closest",
          "mapbox": {
           "style": "light"
          },
          "paper_bgcolor": "white",
          "plot_bgcolor": "#E5ECF6",
          "polar": {
           "angularaxis": {
            "gridcolor": "white",
            "linecolor": "white",
            "ticks": ""
           },
           "bgcolor": "#E5ECF6",
           "radialaxis": {
            "gridcolor": "white",
            "linecolor": "white",
            "ticks": ""
           }
          },
          "scene": {
           "xaxis": {
            "backgroundcolor": "#E5ECF6",
            "gridcolor": "white",
            "gridwidth": 2,
            "linecolor": "white",
            "showbackground": true,
            "ticks": "",
            "zerolinecolor": "white"
           },
           "yaxis": {
            "backgroundcolor": "#E5ECF6",
            "gridcolor": "white",
            "gridwidth": 2,
            "linecolor": "white",
            "showbackground": true,
            "ticks": "",
            "zerolinecolor": "white"
           },
           "zaxis": {
            "backgroundcolor": "#E5ECF6",
            "gridcolor": "white",
            "gridwidth": 2,
            "linecolor": "white",
            "showbackground": true,
            "ticks": "",
            "zerolinecolor": "white"
           }
          },
          "shapedefaults": {
           "line": {
            "color": "#2a3f5f"
           }
          },
          "ternary": {
           "aaxis": {
            "gridcolor": "white",
            "linecolor": "white",
            "ticks": ""
           },
           "baxis": {
            "gridcolor": "white",
            "linecolor": "white",
            "ticks": ""
           },
           "bgcolor": "#E5ECF6",
           "caxis": {
            "gridcolor": "white",
            "linecolor": "white",
            "ticks": ""
           }
          },
          "title": {
           "x": 0.05
          },
          "xaxis": {
           "automargin": true,
           "gridcolor": "white",
           "linecolor": "white",
           "ticks": "",
           "title": {
            "standoff": 15
           },
           "zerolinecolor": "white",
           "zerolinewidth": 2
          },
          "yaxis": {
           "automargin": true,
           "gridcolor": "white",
           "linecolor": "white",
           "ticks": "",
           "title": {
            "standoff": 15
           },
           "zerolinecolor": "white",
           "zerolinewidth": 2
          }
         }
        },
        "title": {
         "font": {
          "color": "#4D5663"
         },
         "text": "Movie Genre#"
        },
        "xaxis": {
         "gridcolor": "#E1E5ED",
         "showgrid": true,
         "tickfont": {
          "color": "#4D5663"
         },
         "title": {
          "font": {
           "color": "#4D5663"
          },
          "text": ""
         },
         "zerolinecolor": "#E1E5ED"
        },
        "yaxis": {
         "gridcolor": "#E1E5ED",
         "showgrid": true,
         "tickfont": {
          "color": "#4D5663"
         },
         "title": {
          "font": {
           "color": "#4D5663"
          },
          "text": "Number of Genres"
         },
         "zerolinecolor": "#E1E5ED"
        }
       }
      },
      "text/html": [
       "<div>\n",
       "        \n",
       "        \n",
       "            <div id=\"bcb33cd4-b6e6-4093-9dfd-dd8bde8ae9b8\" class=\"plotly-graph-div\" style=\"height:525px; width:100%;\"></div>\n",
       "            <script type=\"text/javascript\">\n",
       "                require([\"plotly\"], function(Plotly) {\n",
       "                    window.PLOTLYENV=window.PLOTLYENV || {};\n",
       "                    window.PLOTLYENV.BASE_URL='https://plot.ly';\n",
       "                    \n",
       "                if (document.getElementById(\"bcb33cd4-b6e6-4093-9dfd-dd8bde8ae9b8\")) {\n",
       "                    Plotly.newPlot(\n",
       "                        'bcb33cd4-b6e6-4093-9dfd-dd8bde8ae9b8',\n",
       "                        [{\"marker\": {\"color\": \"rgba(255, 153, 51, 0.6)\", \"line\": {\"color\": \"rgba(255, 153, 51, 1.0)\", \"width\": 1}}, \"name\": \"Genre\", \"orientation\": \"v\", \"text\": \"\", \"type\": \"bar\", \"x\": [\"drama\", \"comedy\", \"horror\", \"action\", \"thriller\", \"romance\", \"western\", \"adventure\", \"crime\"], \"y\": [3770, 2724, 840, 830, 685, 649, 525, 331, 328]}],\n",
       "                        {\"legend\": {\"bgcolor\": \"#F5F6F9\", \"font\": {\"color\": \"#4D5663\"}}, \"paper_bgcolor\": \"#F5F6F9\", \"plot_bgcolor\": \"#F5F6F9\", \"template\": {\"data\": {\"bar\": [{\"error_x\": {\"color\": \"#2a3f5f\"}, \"error_y\": {\"color\": \"#2a3f5f\"}, \"marker\": {\"line\": {\"color\": \"#E5ECF6\", \"width\": 0.5}}, \"type\": \"bar\"}], \"barpolar\": [{\"marker\": {\"line\": {\"color\": \"#E5ECF6\", \"width\": 0.5}}, \"type\": \"barpolar\"}], \"carpet\": [{\"aaxis\": {\"endlinecolor\": \"#2a3f5f\", \"gridcolor\": \"white\", \"linecolor\": \"white\", \"minorgridcolor\": \"white\", \"startlinecolor\": \"#2a3f5f\"}, \"baxis\": {\"endlinecolor\": \"#2a3f5f\", \"gridcolor\": \"white\", \"linecolor\": \"white\", \"minorgridcolor\": \"white\", \"startlinecolor\": \"#2a3f5f\"}, \"type\": \"carpet\"}], \"choropleth\": [{\"colorbar\": {\"outlinewidth\": 0, \"ticks\": \"\"}, \"type\": \"choropleth\"}], \"contour\": [{\"colorbar\": {\"outlinewidth\": 0, \"ticks\": \"\"}, \"colorscale\": [[0.0, \"#0d0887\"], [0.1111111111111111, \"#46039f\"], [0.2222222222222222, \"#7201a8\"], [0.3333333333333333, \"#9c179e\"], [0.4444444444444444, \"#bd3786\"], [0.5555555555555556, \"#d8576b\"], [0.6666666666666666, \"#ed7953\"], [0.7777777777777778, \"#fb9f3a\"], [0.8888888888888888, \"#fdca26\"], [1.0, \"#f0f921\"]], \"type\": \"contour\"}], \"contourcarpet\": [{\"colorbar\": {\"outlinewidth\": 0, \"ticks\": \"\"}, \"type\": \"contourcarpet\"}], \"heatmap\": [{\"colorbar\": {\"outlinewidth\": 0, \"ticks\": \"\"}, \"colorscale\": [[0.0, \"#0d0887\"], [0.1111111111111111, \"#46039f\"], [0.2222222222222222, \"#7201a8\"], [0.3333333333333333, \"#9c179e\"], [0.4444444444444444, \"#bd3786\"], [0.5555555555555556, \"#d8576b\"], [0.6666666666666666, \"#ed7953\"], [0.7777777777777778, \"#fb9f3a\"], [0.8888888888888888, \"#fdca26\"], [1.0, \"#f0f921\"]], \"type\": \"heatmap\"}], \"heatmapgl\": [{\"colorbar\": {\"outlinewidth\": 0, \"ticks\": \"\"}, \"colorscale\": [[0.0, \"#0d0887\"], [0.1111111111111111, \"#46039f\"], [0.2222222222222222, \"#7201a8\"], [0.3333333333333333, \"#9c179e\"], [0.4444444444444444, \"#bd3786\"], [0.5555555555555556, \"#d8576b\"], [0.6666666666666666, \"#ed7953\"], [0.7777777777777778, \"#fb9f3a\"], [0.8888888888888888, \"#fdca26\"], [1.0, \"#f0f921\"]], \"type\": \"heatmapgl\"}], \"histogram\": [{\"marker\": {\"colorbar\": {\"outlinewidth\": 0, \"ticks\": \"\"}}, \"type\": \"histogram\"}], \"histogram2d\": [{\"colorbar\": {\"outlinewidth\": 0, \"ticks\": \"\"}, \"colorscale\": [[0.0, \"#0d0887\"], [0.1111111111111111, \"#46039f\"], [0.2222222222222222, \"#7201a8\"], [0.3333333333333333, \"#9c179e\"], [0.4444444444444444, \"#bd3786\"], [0.5555555555555556, \"#d8576b\"], [0.6666666666666666, \"#ed7953\"], [0.7777777777777778, \"#fb9f3a\"], [0.8888888888888888, \"#fdca26\"], [1.0, \"#f0f921\"]], \"type\": \"histogram2d\"}], \"histogram2dcontour\": [{\"colorbar\": {\"outlinewidth\": 0, \"ticks\": \"\"}, \"colorscale\": [[0.0, \"#0d0887\"], [0.1111111111111111, \"#46039f\"], [0.2222222222222222, \"#7201a8\"], [0.3333333333333333, \"#9c179e\"], [0.4444444444444444, \"#bd3786\"], [0.5555555555555556, \"#d8576b\"], [0.6666666666666666, \"#ed7953\"], [0.7777777777777778, \"#fb9f3a\"], [0.8888888888888888, \"#fdca26\"], [1.0, \"#f0f921\"]], \"type\": \"histogram2dcontour\"}], \"mesh3d\": [{\"colorbar\": {\"outlinewidth\": 0, \"ticks\": \"\"}, \"type\": \"mesh3d\"}], \"parcoords\": [{\"line\": {\"colorbar\": {\"outlinewidth\": 0, \"ticks\": \"\"}}, \"type\": \"parcoords\"}], \"pie\": [{\"automargin\": true, \"type\": \"pie\"}], \"scatter\": [{\"marker\": {\"colorbar\": {\"outlinewidth\": 0, \"ticks\": \"\"}}, \"type\": \"scatter\"}], \"scatter3d\": [{\"line\": {\"colorbar\": {\"outlinewidth\": 0, \"ticks\": \"\"}}, \"marker\": {\"colorbar\": {\"outlinewidth\": 0, \"ticks\": \"\"}}, \"type\": \"scatter3d\"}], \"scattercarpet\": [{\"marker\": {\"colorbar\": {\"outlinewidth\": 0, \"ticks\": \"\"}}, \"type\": \"scattercarpet\"}], \"scattergeo\": [{\"marker\": {\"colorbar\": {\"outlinewidth\": 0, \"ticks\": \"\"}}, \"type\": \"scattergeo\"}], \"scattergl\": [{\"marker\": {\"colorbar\": {\"outlinewidth\": 0, \"ticks\": \"\"}}, \"type\": \"scattergl\"}], \"scattermapbox\": [{\"marker\": {\"colorbar\": {\"outlinewidth\": 0, \"ticks\": \"\"}}, \"type\": \"scattermapbox\"}], \"scatterpolar\": [{\"marker\": {\"colorbar\": {\"outlinewidth\": 0, \"ticks\": \"\"}}, \"type\": \"scatterpolar\"}], \"scatterpolargl\": [{\"marker\": {\"colorbar\": {\"outlinewidth\": 0, \"ticks\": \"\"}}, \"type\": \"scatterpolargl\"}], \"scatterternary\": [{\"marker\": {\"colorbar\": {\"outlinewidth\": 0, \"ticks\": \"\"}}, \"type\": \"scatterternary\"}], \"surface\": [{\"colorbar\": {\"outlinewidth\": 0, \"ticks\": \"\"}, \"colorscale\": [[0.0, \"#0d0887\"], [0.1111111111111111, \"#46039f\"], [0.2222222222222222, \"#7201a8\"], [0.3333333333333333, \"#9c179e\"], [0.4444444444444444, \"#bd3786\"], [0.5555555555555556, \"#d8576b\"], [0.6666666666666666, \"#ed7953\"], [0.7777777777777778, \"#fb9f3a\"], [0.8888888888888888, \"#fdca26\"], [1.0, \"#f0f921\"]], \"type\": \"surface\"}], \"table\": [{\"cells\": {\"fill\": {\"color\": \"#EBF0F8\"}, \"line\": {\"color\": \"white\"}}, \"header\": {\"fill\": {\"color\": \"#C8D4E3\"}, \"line\": {\"color\": \"white\"}}, \"type\": \"table\"}]}, \"layout\": {\"annotationdefaults\": {\"arrowcolor\": \"#2a3f5f\", \"arrowhead\": 0, \"arrowwidth\": 1}, \"coloraxis\": {\"colorbar\": {\"outlinewidth\": 0, \"ticks\": \"\"}}, \"colorscale\": {\"diverging\": [[0, \"#8e0152\"], [0.1, \"#c51b7d\"], [0.2, \"#de77ae\"], [0.3, \"#f1b6da\"], [0.4, \"#fde0ef\"], [0.5, \"#f7f7f7\"], [0.6, \"#e6f5d0\"], [0.7, \"#b8e186\"], [0.8, \"#7fbc41\"], [0.9, \"#4d9221\"], [1, \"#276419\"]], \"sequential\": [[0.0, \"#0d0887\"], [0.1111111111111111, \"#46039f\"], [0.2222222222222222, \"#7201a8\"], [0.3333333333333333, \"#9c179e\"], [0.4444444444444444, \"#bd3786\"], [0.5555555555555556, \"#d8576b\"], [0.6666666666666666, \"#ed7953\"], [0.7777777777777778, \"#fb9f3a\"], [0.8888888888888888, \"#fdca26\"], [1.0, \"#f0f921\"]], \"sequentialminus\": [[0.0, \"#0d0887\"], [0.1111111111111111, \"#46039f\"], [0.2222222222222222, \"#7201a8\"], [0.3333333333333333, \"#9c179e\"], [0.4444444444444444, \"#bd3786\"], [0.5555555555555556, \"#d8576b\"], [0.6666666666666666, \"#ed7953\"], [0.7777777777777778, \"#fb9f3a\"], [0.8888888888888888, \"#fdca26\"], [1.0, \"#f0f921\"]]}, \"colorway\": [\"#636efa\", \"#EF553B\", \"#00cc96\", \"#ab63fa\", \"#FFA15A\", \"#19d3f3\", \"#FF6692\", \"#B6E880\", \"#FF97FF\", \"#FECB52\"], \"font\": {\"color\": \"#2a3f5f\"}, \"geo\": {\"bgcolor\": \"white\", \"lakecolor\": \"white\", \"landcolor\": \"#E5ECF6\", \"showlakes\": true, \"showland\": true, \"subunitcolor\": \"white\"}, \"hoverlabel\": {\"align\": \"left\"}, \"hovermode\": \"closest\", \"mapbox\": {\"style\": \"light\"}, \"paper_bgcolor\": \"white\", \"plot_bgcolor\": \"#E5ECF6\", \"polar\": {\"angularaxis\": {\"gridcolor\": \"white\", \"linecolor\": \"white\", \"ticks\": \"\"}, \"bgcolor\": \"#E5ECF6\", \"radialaxis\": {\"gridcolor\": \"white\", \"linecolor\": \"white\", \"ticks\": \"\"}}, \"scene\": {\"xaxis\": {\"backgroundcolor\": \"#E5ECF6\", \"gridcolor\": \"white\", \"gridwidth\": 2, \"linecolor\": \"white\", \"showbackground\": true, \"ticks\": \"\", \"zerolinecolor\": \"white\"}, \"yaxis\": {\"backgroundcolor\": \"#E5ECF6\", \"gridcolor\": \"white\", \"gridwidth\": 2, \"linecolor\": \"white\", \"showbackground\": true, \"ticks\": \"\", \"zerolinecolor\": \"white\"}, \"zaxis\": {\"backgroundcolor\": \"#E5ECF6\", \"gridcolor\": \"white\", \"gridwidth\": 2, \"linecolor\": \"white\", \"showbackground\": true, \"ticks\": \"\", \"zerolinecolor\": \"white\"}}, \"shapedefaults\": {\"line\": {\"color\": \"#2a3f5f\"}}, \"ternary\": {\"aaxis\": {\"gridcolor\": \"white\", \"linecolor\": \"white\", \"ticks\": \"\"}, \"baxis\": {\"gridcolor\": \"white\", \"linecolor\": \"white\", \"ticks\": \"\"}, \"bgcolor\": \"#E5ECF6\", \"caxis\": {\"gridcolor\": \"white\", \"linecolor\": \"white\", \"ticks\": \"\"}}, \"title\": {\"x\": 0.05}, \"xaxis\": {\"automargin\": true, \"gridcolor\": \"white\", \"linecolor\": \"white\", \"ticks\": \"\", \"title\": {\"standoff\": 15}, \"zerolinecolor\": \"white\", \"zerolinewidth\": 2}, \"yaxis\": {\"automargin\": true, \"gridcolor\": \"white\", \"linecolor\": \"white\", \"ticks\": \"\", \"title\": {\"standoff\": 15}, \"zerolinecolor\": \"white\", \"zerolinewidth\": 2}}}, \"title\": {\"font\": {\"color\": \"#4D5663\"}, \"text\": \"Movie Genre#\"}, \"xaxis\": {\"gridcolor\": \"#E1E5ED\", \"showgrid\": true, \"tickfont\": {\"color\": \"#4D5663\"}, \"title\": {\"font\": {\"color\": \"#4D5663\"}, \"text\": \"\"}, \"zerolinecolor\": \"#E1E5ED\"}, \"yaxis\": {\"gridcolor\": \"#E1E5ED\", \"showgrid\": true, \"tickfont\": {\"color\": \"#4D5663\"}, \"title\": {\"font\": {\"color\": \"#4D5663\"}, \"text\": \"Number of Genres\"}, \"zerolinecolor\": \"#E1E5ED\"}},\n",
       "                        {\"showLink\": true, \"linkText\": \"Export to plot.ly\", \"plotlyServerURL\": \"https://plot.ly\", \"responsive\": true}\n",
       "                    ).then(function(){\n",
       "                            \n",
       "var gd = document.getElementById('bcb33cd4-b6e6-4093-9dfd-dd8bde8ae9b8');\n",
       "var x = new MutationObserver(function (mutations, observer) {{\n",
       "        var display = window.getComputedStyle(gd).display;\n",
       "        if (!display || display === 'none') {{\n",
       "            console.log([gd, 'removed!']);\n",
       "            Plotly.purge(gd);\n",
       "            observer.disconnect();\n",
       "        }}\n",
       "}});\n",
       "\n",
       "// Listen for the removal of the full notebook cells\n",
       "var notebookContainer = gd.closest('#notebook-container');\n",
       "if (notebookContainer) {{\n",
       "    x.observe(notebookContainer, {childList: true});\n",
       "}}\n",
       "\n",
       "// Listen for the clearing of the current output cell\n",
       "var outputEl = gd.closest('.output');\n",
       "if (outputEl) {{\n",
       "    x.observe(outputEl, {childList: true});\n",
       "}}\n",
       "\n",
       "                        })\n",
       "                };\n",
       "                });\n",
       "            </script>\n",
       "        </div>"
      ]
     },
     "metadata": {},
     "output_type": "display_data"
    }
   ],
   "source": [
    "train.Genre.value_counts().sort_values(ascending=False).iplot(kind='bar', yTitle='Number of Genres', \n",
    "                                                                title='Movie Genre#')"
   ]
  },
  {
   "cell_type": "code",
   "execution_count": 28,
   "metadata": {},
   "outputs": [],
   "source": [
    "def print_plot(index):\n",
    "    example = train[train.index == index][['Plot', 'Plot']].values[0]\n",
    "    if len(example) > 0:\n",
    "        print(example[0])\n",
    "        print('Plot:', example[1])"
   ]
  },
  {
   "cell_type": "code",
   "execution_count": 29,
   "metadata": {
    "scrolled": true
   },
   "outputs": [
    {
     "name": "stdout",
     "output_type": "stream",
     "text": [
      "Vazhthugal revolves around Kathiravan, a successful entrepreneur who manages a software company. Kathiravan is an affectionate son and socially responsible too. His company is involved in various social activities.\r\n",
      "When his close friend's parents are forced by their daughter-in-law to leave home, Kathrivan decides to marry a girl who will keep his parents happy. While watching a television programme he is impressed by Kayal, a college student from Coimbatore being interviewed on a show.\r\n",
      "To a question by the interviewer, 'where do you see yourself in another ten years?' Kayal deviating from the usual clichéd answers replies, \"As an ideal wife, mother and daughter-in-law.\" And during the course of her talk, she attributes her success to her large and loving family consisting of her parents, maternal grandfather, aunts, uncles and cousins. Kathiravan is impressed with her attitude and feels that she is the right life companion for him.\r\n",
      "He goes to Coimbatore to woo her. But meeting her in her college does not help. So he takes it as an opportunity when he learns that Kayal's grandfather is on the look out for an interior designer to renovate their traditional home. Posing as an interior designer, he undertakes the job winning the hearts of Kayal and her family members.\r\n",
      "When the family comes to know that the two are in love, especially Kayal's grandfather who believes that all love marriages are a failure. However, Kathiravan does not want to marry Kayal without her family's acceptance. How he wins their love is what Vazhthugal is all about.\n",
      "Plot: Vazhthugal revolves around Kathiravan, a successful entrepreneur who manages a software company. Kathiravan is an affectionate son and socially responsible too. His company is involved in various social activities.\r\n",
      "When his close friend's parents are forced by their daughter-in-law to leave home, Kathrivan decides to marry a girl who will keep his parents happy. While watching a television programme he is impressed by Kayal, a college student from Coimbatore being interviewed on a show.\r\n",
      "To a question by the interviewer, 'where do you see yourself in another ten years?' Kayal deviating from the usual clichéd answers replies, \"As an ideal wife, mother and daughter-in-law.\" And during the course of her talk, she attributes her success to her large and loving family consisting of her parents, maternal grandfather, aunts, uncles and cousins. Kathiravan is impressed with her attitude and feels that she is the right life companion for him.\r\n",
      "He goes to Coimbatore to woo her. But meeting her in her college does not help. So he takes it as an opportunity when he learns that Kayal's grandfather is on the look out for an interior designer to renovate their traditional home. Posing as an interior designer, he undertakes the job winning the hearts of Kayal and her family members.\r\n",
      "When the family comes to know that the two are in love, especially Kayal's grandfather who believes that all love marriages are a failure. However, Kathiravan does not want to marry Kayal without her family's acceptance. How he wins their love is what Vazhthugal is all about.\n"
     ]
    }
   ],
   "source": [
    "print_plot(10)\n"
   ]
  },
  {
   "cell_type": "code",
   "execution_count": 10,
   "metadata": {},
   "outputs": [
    {
     "data": {
      "text/plain": [
       "169"
      ]
     },
     "execution_count": 10,
     "metadata": {},
     "output_type": "execute_result"
    }
   ],
   "source": [
    "# Check for NaN values:\n",
    "train.isnull().sum().sum()"
   ]
  },
  {
   "cell_type": "code",
   "execution_count": 11,
   "metadata": {},
   "outputs": [
    {
     "data": {
      "text/plain": [
       "False"
      ]
     },
     "execution_count": 11,
     "metadata": {},
     "output_type": "execute_result"
    }
   ],
   "source": [
    "# Check for whitespace strings (it's OK if there aren't any!):\n",
    "import string\n",
    "def contains_whitespace(s):\n",
    "    return True in [c in s for c in string.whitespace]\n",
    "contains_whitespace(train['Plot'])"
   ]
  },
  {
   "cell_type": "markdown",
   "metadata": {},
   "source": [
    "### Task #3: Remove NaN values:"
   ]
  },
  {
   "cell_type": "code",
   "execution_count": 12,
   "metadata": {},
   "outputs": [],
   "source": [
    "REPLACE_BY_SPACE_RE = re.compile('[/(){}\\[\\]\\|@,;]')\n",
    "BAD_SYMBOLS_RE = re.compile('[^0-9a-z #+_]')\n",
    "STOPWORDS = set(stopwords.words('english'))\n",
    "\n",
    "def clean_text(text):\n",
    "    \"\"\"\n",
    "        text: a string\n",
    "        \n",
    "        return: modified initial string\n",
    "    \"\"\"\n",
    "    text = text.lower() # lowercase text\n",
    "    text = REPLACE_BY_SPACE_RE.sub(' ', text) # replace REPLACE_BY_SPACE_RE symbols by space in text. substitute the matched string in REPLACE_BY_SPACE_RE with space.\n",
    "    text = BAD_SYMBOLS_RE.sub('', text) # remove symbols which are in BAD_SYMBOLS_RE from text. substitute the matched string in BAD_SYMBOLS_RE with nothing. \n",
    "    text = text.replace('x', '')\n",
    "#    text = re.sub(r'\\W+', '', text)\n",
    "    text = ' '.join(word for word in text.split() if word not in STOPWORDS) # remove stopwors from text\n",
    "    return text\n"
   ]
  },
  {
   "cell_type": "code",
   "execution_count": 13,
   "metadata": {},
   "outputs": [],
   "source": [
    "train['cleanplot'] = train['Plot'].apply(clean_text)"
   ]
  },
  {
   "cell_type": "markdown",
   "metadata": {},
   "source": [
    "# Unique tokens on plot"
   ]
  },
  {
   "cell_type": "code",
   "execution_count": 43,
   "metadata": {},
   "outputs": [
    {
     "name": "stdout",
     "output_type": "stream",
     "text": [
      "Found 92392 unique tokens.\n"
     ]
    }
   ],
   "source": [
    "MAX_NB_WORDS = 50000\n",
    "# Max number of words in each complaint.\n",
    "MAX_SEQUENCE_LENGTH = 250\n",
    "# This is fixed.\n",
    "EMBEDDING_DIM = 100\n",
    "\n",
    "tokenizer = Tokenizer(num_words=MAX_NB_WORDS, filters='!\"#$%&()*+,-./:;<=>?@[\\]^_`{|}~', lower=True)\n",
    "tokenizer.fit_on_texts(train['Plot1'].values)\n",
    "word_index = tokenizer.word_index\n",
    "print('Found %s unique tokens.' % len(word_index))"
   ]
  },
  {
   "cell_type": "markdown",
   "metadata": {},
   "source": [
    "### Task #4: Take a look at the columns and do some EDA to familiarize yourself with the data. "
   ]
  },
  {
   "cell_type": "code",
   "execution_count": null,
   "metadata": {},
   "outputs": [],
   "source": []
  },
  {
   "cell_type": "markdown",
   "metadata": {},
   "source": [
    "### Task #5: Split the data into train & test sets:\n",
    "\n",
    "Yes we have a holdout set of the data, but you do not know the genres of that data, so you can't use it to evaluate your models. Therefore you must create your own training and test sets to evaluate your models. "
   ]
  },
  {
   "cell_type": "code",
   "execution_count": 25,
   "metadata": {},
   "outputs": [
    {
     "name": "stdout",
     "output_type": "stream",
     "text": [
      "['i', 'me', 'my', 'myself', 'we', 'our', 'ours', 'ourselves', 'you', \"you're\", \"you've\", \"you'll\", \"you'd\", 'your', 'yours', 'yourself', 'yourselves', 'he', 'him', 'his', 'himself', 'she', \"she's\", 'her', 'hers', 'herself', 'it', \"it's\", 'its', 'itself', 'they', 'them', 'their', 'theirs', 'themselves', 'what', 'which', 'who', 'whom', 'this', 'that', \"that'll\", 'these', 'those', 'am', 'is', 'are', 'was', 'were', 'be', 'been', 'being', 'have', 'has', 'had', 'having', 'do', 'does', 'did', 'doing', 'a', 'an', 'the', 'and', 'but', 'if', 'or', 'because', 'as', 'until', 'while', 'of', 'at', 'by', 'for', 'with', 'about', 'against', 'between', 'into', 'through', 'during', 'before', 'after', 'above', 'below', 'to', 'from', 'up', 'down', 'in', 'out', 'on', 'off', 'over', 'under', 'again', 'further', 'then', 'once', 'here', 'there', 'when', 'where', 'why', 'how', 'all', 'any', 'both', 'each', 'few', 'more', 'most', 'other', 'some', 'such', 'no', 'nor', 'not', 'only', 'own', 'same', 'so', 'than', 'too', 'very', 's', 't', 'can', 'will', 'just', 'don', \"don't\", 'should', \"should've\", 'now', 'd', 'll', 'm', 'o', 're', 've', 'y', 'ain', 'aren', \"aren't\", 'couldn', \"couldn't\", 'didn', \"didn't\", 'doesn', \"doesn't\", 'hadn', \"hadn't\", 'hasn', \"hasn't\", 'haven', \"haven't\", 'isn', \"isn't\", 'ma', 'mightn', \"mightn't\", 'mustn', \"mustn't\", 'needn', \"needn't\", 'shan', \"shan't\", 'shouldn', \"shouldn't\", 'wasn', \"wasn't\", 'weren', \"weren't\", 'won', \"won't\", 'wouldn', \"wouldn't\"]\n"
     ]
    }
   ],
   "source": [
    "stop = stopwords.words(\"english\")\n",
    "print(stop)\n",
    "stop.extend([\"one\", \"n\", \"nan\", \"x\"])"
   ]
  },
  {
   "cell_type": "code",
   "execution_count": 26,
   "metadata": {},
   "outputs": [
    {
     "name": "stdout",
     "output_type": "stream",
     "text": [
      "['computer', 'error', 'leads', 'accidental', 'release', 'homicidal', 'patient', 'howard', 'johns', 'mental', 'institution', 'mute', 'murderer', 'returns', 'scene', 'original', 'crimes']\n"
     ]
    }
   ],
   "source": [
    "# Creating a regular expression tokenizer that matches only alphabets\n",
    "# This will return separate words (tokens) from the text\n",
    "tokenizer = regextoken(\"[a-zA-Z]+\") \n",
    "# Applying the tokenizer to each row of the reviews\n",
    "review_tokens = train[\"cleanplot\"].apply(tokenizer.tokenize)\n",
    "# Examining the tokens created for the first row / restaurant\n",
    "print(review_tokens[0])"
   ]
  },
  {
   "cell_type": "code",
   "execution_count": 28,
   "metadata": {},
   "outputs": [],
   "source": [
    "from nltk import FreqDist, bigrams, trigrams"
   ]
  },
  {
   "cell_type": "code",
   "execution_count": 29,
   "metadata": {},
   "outputs": [
    {
     "data": {
      "text/plain": [
       "[('back', 6672),\n",
       " ('tells', 6374),\n",
       " ('father', 6128),\n",
       " ('two', 6090),\n",
       " ('home', 5679)]"
      ]
     },
     "execution_count": 29,
     "metadata": {},
     "output_type": "execute_result"
    }
   ],
   "source": [
    "# Removing stopwords from the tokens\n",
    "review_tokens = review_tokens.apply(lambda x: [token for token in x if token not in stop])\n",
    "# Concatenating all the reviews \n",
    "all_reviews = review_tokens.astype(str).str.cat()\n",
    "cleaned_reviews = tokenizer.tokenize(all_reviews)\n",
    "\n",
    "# Getting the frequency distribution of individual words in the reviews\n",
    "fd = FreqDist()\n",
    "for word in cleaned_reviews:\n",
    "    fd[word] += 1\n",
    "    \n",
    "# Examining the top 5 most frequent words\n",
    "fd.most_common(5)"
   ]
  },
  {
   "cell_type": "code",
   "execution_count": 30,
   "metadata": {},
   "outputs": [
    {
     "data": {
      "text/plain": [
       "0        [computer, error, leads, accidental, release, ...\n",
       "1        [lonnie, wilson, ken, scott, son, sharecropper...\n",
       "2        [gaunt, bushybearded, yearold, wes, holman, re...\n",
       "3        [ram, avtar, childhood, best, friends, differe...\n",
       "4        [machete, cortez, danny, trejo, sartana, river...\n",
       "                               ...                        \n",
       "10677    [nick, sanders, comes, home, war, needs, job, ...\n",
       "10678    [film, covers, first, half, novel, ends, truce...\n",
       "10679    [sam, gold, jesse, eisenberg, mildmannered, ye...\n",
       "10680    [yankee, lawyer, john, reynolds, john, wayne, ...\n",
       "10681    [somewhat, fictionalized, account, destruction...\n",
       "Name: cleanplot, Length: 10682, dtype: object"
      ]
     },
     "execution_count": 30,
     "metadata": {},
     "output_type": "execute_result"
    }
   ],
   "source": [
    "review_tokens"
   ]
  },
  {
   "cell_type": "code",
   "execution_count": 15,
   "metadata": {
    "run_control": {
     "marked": false
    }
   },
   "outputs": [],
   "source": [
    "df = train[pd.notnull(train['cleanplot'])]"
   ]
  },
  {
   "cell_type": "code",
   "execution_count": 16,
   "metadata": {},
   "outputs": [
    {
     "name": "stdout",
     "output_type": "stream",
     "text": [
      "<class 'pandas.core.frame.DataFrame'>\n",
      "Int64Index: 10682 entries, 0 to 10681\n",
      "Data columns (total 8 columns):\n",
      "Unnamed: 0      10682 non-null int64\n",
      "Release Year    10682 non-null int64\n",
      "Title           10682 non-null object\n",
      "Plot            10682 non-null object\n",
      "Director        10682 non-null object\n",
      "Cast            10513 non-null object\n",
      "Genre           10682 non-null object\n",
      "cleanplot       10682 non-null object\n",
      "dtypes: int64(2), object(6)\n",
      "memory usage: 751.1+ KB\n"
     ]
    }
   ],
   "source": [
    "df.info()"
   ]
  },
  {
   "cell_type": "code",
   "execution_count": 17,
   "metadata": {},
   "outputs": [],
   "source": [
    "df['genre_id'] = df['Genre'].factorize()[0]\n",
    "from io import StringIO\n",
    "genre_id_df = df[['Genre', 'genre_id']].drop_duplicates().sort_values('genre_id')\n",
    "genre_to_id = dict(genre_id_df.values)\n",
    "id_to_genre = dict(genre_id_df[['genre_id', 'Genre']].values)"
   ]
  },
  {
   "cell_type": "code",
   "execution_count": 18,
   "metadata": {},
   "outputs": [
    {
     "data": {
      "text/plain": [
       "(10682, 46570)"
      ]
     },
     "execution_count": 18,
     "metadata": {},
     "output_type": "execute_result"
    }
   ],
   "source": [
    "from sklearn.feature_extraction.text import TfidfVectorizer\n",
    "tfidf = TfidfVectorizer(sublinear_tf=True, min_df=5, norm='l2', encoding='latin-1', ngram_range=(1, 2), stop_words='english')\n",
    "features = tfidf.fit_transform(df.cleanplot).toarray()\n",
    "labels = df.genre_id\n",
    "features.shape"
   ]
  },
  {
   "cell_type": "code",
   "execution_count": 26,
   "metadata": {},
   "outputs": [
    {
     "data": {
      "text/plain": [
       "{'horror': 0,\n",
       " 'drama': 1,\n",
       " 'action': 2,\n",
       " 'western': 3,\n",
       " 'comedy': 4,\n",
       " 'romance': 5,\n",
       " 'thriller': 6,\n",
       " 'crime': 7,\n",
       " 'adventure': 8}"
      ]
     },
     "execution_count": 26,
     "metadata": {},
     "output_type": "execute_result"
    }
   ],
   "source": [
    "genre_to_id"
   ]
  },
  {
   "cell_type": "code",
   "execution_count": 28,
   "metadata": {},
   "outputs": [
    {
     "name": "stdout",
     "output_type": "stream",
     "text": [
      "defaultdict(<class 'list'>, {'action': ['reddys', 'injustice', 'triads', 'han', 'arts', 'raghuvaran', 'cm', 'gant', 'officer', 'charan', 'honest', 'undercover', 'compound', 'leader', 'bomb', 'abhimanyu', 'politician', 'dharma', 'fighters', 'trafficker', 'inspector', 'hyderabad', 'vigilante', 'chopper', 'cops', 'amrish', 'shilpa', 'chakraborty', 'narasimha', 'ajay', 'azad', 'chennai', 'shafi', 'kingpin', 'drug', 'dsp', 'norris', 'villains', 'fbi', 'vidyarthi', 'suraj', 'maha', 'killed', 'henchman', 'andhra', 'kidnapped', 'ops', 'fights', 'goons', 'arjun', 'shetty', 'weapons', 'killing', 'raja', 'gowda', 'jeanclaude', 'shankar', 'ranjith', 'shiva', 'helicopter', 'chinna', 'ninjas', 'baddies', 'reddy', 'sudeep', 'revenge', 'commissioner', 'balakrishna', 'mission', 'rowdies', 'damme', 'cia', 'hostages', 'defeats', 'devaraj', 'prakash', 'mercenaries', 'nandamuri', 'kills', 'terrorist', 'underworld', 'gang', 'raj', 'interpol', 'police', 'rambo', 'mla', 'mafia', 'babu', 'kill', 'cop', 'corrupt', 'martial', 'bhai', 'acp', 'vijay', 'ninja', 'henchmen', 'terrorists', 'mithun'], 'adventure': ['clans', 'voyage', 'greeks', 'zenda', 'ivory', 'aboard', 'robin', 'shanghaied', 'adventurers', 'seas', 'map', 'diamonds', 'slave', 'poachers', 'royal', 'treacherous', 'crashland', 'boat', 'hunters', 'buckingham', 'elephants', 'ships', 'duels', 'tribesmen', 'vikings', 'livesey', 'whaling', 'indentured', 'flints', 'battle', 'looters', 'piracy', 'spear', 'norway', 'elephant', 'sword', 'milady', 'caliphs', 'lions', 'rescue', 'prince', 'galleon', 'boulder', 'sinbad', 'errol', 'native', 'jamaica', 'dartagnans', 'kings', 'lion', 'musketeer', 'bagdad', 'eplorer', 'ruler', 'sailors', 'cornel', 'princess', 'mate', 'caliph', 'rochefort', 'lagoon', 'civilization', 'blackbeard', 'charlton', 'sea', 'captured', 'heston', 'shipwrecked', 'queen', 'sabu', 'harald', 'jacobite', 'safari', 'crew', 'montez', 'leopard', 'sail', 'tribe', 'africa', 'adventurer', 'epedition', 'island', 'richelieu', 'king', 'treasure', 'aramis', 'tarzans', 'porthos', 'captain', 'musketeers', 'mutiny', 'weissmuller', 'athos', 'jungle', 'pirate', 'natives', 'dartagnan', 'ship', 'pirates', 'tarzan'], 'comedy': ['betty', 'sachs', 'pitch', 'bowery', 'murders', 'maisie', 'new', 'sell', 'sid', 'party', 'slacker', 'actor', 'contract', 'kids', 'pizza', 'bets', 'kenneth', 'shiner', 'terrythomas', 'chaos', 'series', 'underwear', '000', 'dreyfus', 'kiss', 'impress', 'dudley', 'stanley', 'lou', 'winning', 'obnoious', 'larry', 'antics', 'louie', 'lassard', 'genie', 'honeymoon', 'promotion', 'errors', 'hawtrey', 'wives', 'compete', 'son', 'misadventures', 'ernest', 'sey', 'television', 'dies', 'kevin', 'boss', 'shemp', 'murdered', 'getting', 'dick', 'humorous', 'eecutive', 'wounded', 'millionaire', 'studio', 'shoots', 'fired', 'costello', 'hilarious', 'dating', 'play', 'incompetent', 'ladies', 'gay', 'dead', 'sellers', 'bud', 'dimwitted', 'wedding', 'ball', 'mistaken', 'crooks', 'date', 'nerdy', 'jerry', 'albert', 'herbie', 'bumbling', 'bachelor', 'kill', 'clouseau', 'advertising', 'eccentric', 'murder', 'mr', 'hollywood', 'tv', 'win', 'inept', 'killing', 'death', 'kills', 'killed', 'comedy', 'stooges', 'sach'], 'crime': ['killer', 'strangled', 'racy', 'yard', 'clerks', 'accessory', 'getaway', 'brill', 'cosby', 'algeria', 'palance', 'safecracker', 'drastic', 'etortion', 'represents', 'superintendent', 'chai', '36', 'insurance', 'wong', 'efiance', 'dorset', 'bareknuckle', 'slim', 'crooner', 'gems', 'lately', 'fenton', 'keyes', 'bank', 'ekberg', 'pruitt', 'miedrace', 'hoard', 'hylton', 'rob', 'submachine', 'rogers', 'murdered', 'scotland', 'shoeshine', 'jewels', 'blackmail', 'undercover', 'newspaperman', 'chan', 'domergue', 'diamond', 'sol', 'counterfeit', 'intrepid', 'prison', 'kwok', 'vault', 'greenberg', 'smalltime', 'strongman', 'polished', 'criminals', 'prime', 'chans', 'duryea', 'jewel', 'ferret', 'flo', 'suspect', 'diamonds', 'blackmailed', 'goldner', 'gangsters', 'hoodlum', 'linden', 'counterfeiting', 'manson', 'sordid', 'embezzle', 'malloy', 'police', 'racket', 'alibi', 'lawabiding', 'gangster', 'gang', 'murder', 'sicilian', 'crime', 'embezzler', 'vickers', 'racketeer', 'detective', 'treasury', 'faulkner', 'lau', 'rackets', 'cheung', 'della', 'heist', 'criminal', 'triad', 'robbery'], 'drama': ['farm', 'zamindar', 'million', '1941', 'marries', 'girija', 'stooges', 'war', 'basement', 'capture', 'boy', 'toronto', 'jews', 'ii', 'zombie', 'savitri', 'hemalatha', 'happiness', 'racial', 'attacks', 'gunfight', 'social', 'accidentally', 'cop', 'posse', 'children', 'stagecoach', 'corpse', 'relationships', 'padma', 'kidnapped', 'powers', 'rural', 'ramudu', '1960s', 'vampires', 'bank', 'ill', 'outlaw', 'communist', 'demon', 'pregnant', 'ghost', 'montreal', 'birth', 'nageswara', 'indians', 'vasanthi', 'attacked', 'murders', 'cancer', 'priya', 'territory', 'detective', 'henchmen', 'manages', 'outlaws', 'inside', 'saloon', 'cattle', 'police', 'ranch', 'family', 'rescue', 'possessed', 'lives', 'diagnosed', 'escape', 'inspector', 'struggles', 'chase', 'older', 'abortion', 'monster', 'film', 'poverty', 'creature', 'body', 'gummadi', 'mother', 'young', 'spends', 'sheriff', 'vampire', 'killing', 'affair', 'marshal', 'gang', 'relangi', 'husband', 'murdered', 'child', 'son', 'killer', 'life', 'jewish', 'relationship', 'kill', 'emotional', 'kills'], 'horror': ['cat', 'frankensteins', 'spirits', 'upstairs', 'room', 'grave', 'mirror', 'lugosi', 'killing', 'devil', 'draculas', 'eerie', 'grotesque', 'mask', 'witchcraft', 'kayako', 'werewolves', 'appears', 'infected', 'dead', 'bites', 'psychic', 'laboratory', 'crucifi', 'gruesome', 'doll', 'cemetery', 'cursed', 'toulon', 'occurrences', 'evil', 'mutilated', 'bite', 'pinhead', 'satanic', 'creeper', 'crypt', 'inside', 'paranormal', 'unseen', 'severed', 'bitten', 'impaled', 'decapitated', 'haunted', 'mummy', 'ghostly', 'occult', 'loomis', 'dr', 'victims', 'impales', 'saeki', 'horror', 'awakens', 'screams', 'beast', 'corpses', 'monsters', 'neck', 'voodoo', 'creatures', 'flesh', 'murders', 'bodies', 'stabs', 'witch', 'attic', 'throat', 'eperiments', 'ritual', 'ghosts', 'kills', 'deformed', 'woods', 'attacked', 'attacks', 'demonic', 'human', 'undead', 'supernatural', 'dracula', 'frankenstein', 'zombies', 'demon', 'spirit', 'strange', 'corpse', 'curse', 'zombie', 'ghost', 'basement', 'monster', 'blood', 'body', 'possessed', 'vampires', 'werewolf', 'creature', 'vampire'], 'romance': ['know', 'suri', 'poonam', 'rich', 'kavi', 'bharani', 'reshmi', 'loves', 'sen', 'madhus', 'geetha', 'wedding', 'kiran', 'navdeep', 'jhansi', 'akash', 'hyderabad', 'sindhu', 'bangalore', 'deepa', 'aindrita', 'puja', 'shriya', 'kavita', 'arya', 'seetha', 'falls', 'deva', 'blossoms', 'siva', 'vizag', 'tanikella', 'abhi', 'siddharth', 'iim', 'incidentally', 'khan', 'chandni', 'kusum', 'sanjana', 'anjali', 'kushal', 'kolkata', 'godman', 'amar', 'married', 'ooty', 'krish', 'sujit', 'nithin', 'gautham', 'telugu', 'sheela', 'sandesh', 'arun', 'rishi', 'studies', 'anus', 'chand', 'uday', 'prem', 'marry', 'ganesh', 'raju', 'deepika', 'shaam', 'pragathi', 'divya', 'abhishek', 'fall', 'ganguly', 'archana', 'coimbatore', 'anand', 'tarun', 'nisha', 'ananya', 'anu', 'kamal', 'dev', 'college', 'sandhya', 'rajesh', 'nithya', 'choudhury', 'madhu', 'unite', 'pooja', 'india', 'karthik', 'vikranth', 'marriage', 'rahuls', 'priya', 'shakib', 'chetan', 'varun', 'reema', 'rahul', 'love'], 'thriller': ['implying', 'patrice', 'nishan', 'hamburg', 'safe', 'boobytrap', 'car', 'aparna', 'bomber', 'psycho', 'karthik', 'nuclear', 'mana', 'suspect', 'rocked', 'mysterious', 'target', 'ashwin', 'investigator', 'specializes', 'shackle', 'morphine', 'karnataka', 'visions', 'harsha', 'cabbie', 'notices', 'det', 'underground', 'stabs', 'unmarked', 'dissociative', 'karthiks', 'crime', 'homicide', 'vineeth', 'convenes', 'zara', 'murdered', 'sreenivasan', 'contacts', 'investigating', 'victims', 'ingratiate', 'victim', 'seton', 'pension', 'ajmal', 'case', 'glass', 'callgirl', 'mantra', 'napoleonic', 'darby', 'killing', 'thriller', 'dead', 'hooded', 'clues', 'kill', 'accessed', 'assailant', 'divulge', 'ips', 'trunk', 'vinays', 'erased', 'clairvoyant', 'mohini', 'bolton', 'prewar', 'murdering', 'restroom', 'information', 'zakir', 'mammootty', 'pattern', 'kathir', 'body', 'indications', 'stranger', 'embassy', 'tape', 'ripleys', 'evidence', 'abductors', 'johannesburg', 'murderer', 'serial', 'detective', 'investigation', 'ripley', 'milan', 'bowden', 'police', 'caller', 'murders', 'murder', 'phone', 'killer'], 'western': ['union', 'rangers', 'tomahawk', 'custers', 'bandit', 'men', 'rustler', 'wounded', 'ride', 'west', 'cowhand', 'confederacy', 'carpetbaggers', 'grazing', 'fuzzy', 'gunmen', 'earp', 'tod', 'murphy', 'foreman', 'cochise', 'pancho', 'shoshone', 'geronimo', 'scout', 'deputized', 'trail', 'randolph', 'missouri', 'deputy', 'arizona', 'gang', 'preacher', 'guns', 'lynch', 'pinkerton', 'meico', 'bounty', 'townspeople', 'hickok', 'ambush', 'clanton', 'troop', 'comanches', 'autry', 'kiowa', 'rustling', 'rifles', 'gunman', 'stampede', 'dancehall', 'herd', 'kansas', 'civil', 'cattleman', 'clint', 'homesteaders', 'custer', 'cattlemen', 'indian', 'gold', 'cowboy', 'gunfight', 'cowboys', 'ranchers', 'settlers', 'audie', 'meican', 'teas', 'town', 'wyoming', 'horse', 'horses', 'railroad', 'siou', 'cheyenne', 'gunfighter', 'comanche', 'confederate', 'lawman', 'gunslinger', 'rustlers', 'fort', 'wagon', 'territory', 'sheriff', 'apaches', 'apache', 'cavalry', 'rides', 'outlaws', 'outlaw', 'marshal', 'posse', 'rancher', 'saloon', 'stagecoach', 'indians', 'cattle', 'ranch']})\n"
     ]
    }
   ],
   "source": [
    "from sklearn.feature_selection import chi2\n",
    "import numpy as np\n",
    "import collections\n",
    "\n",
    "N = 100\n",
    "result = collections.defaultdict(list)\n",
    "for Genre, genre_id in sorted(genre_to_id.items()):\n",
    "    features_chi2 = chi2(features, labels == genre_id)\n",
    "    indices = np.argsort(features_chi2[0])\n",
    "    feature_names = np.array(tfidf.get_feature_names())[indices]\n",
    "    unigrams = [v for v in feature_names if len(v.split(' ')) == 1]\n",
    "    bigrams = [v for v in feature_names if len(v.split(' ')) == 2]\n",
    "    #print(\"# '{}':\".format(Genre))\n",
    "    #print(\"  . Most correlated unigrams:\\n. {}\".format('\\n. '.join(unigrams[-N:])))\n",
    "    #print(\"  . Most correlated bigrams:\\n. {}\".format('\\n. '.join(bigrams[-N:])))\n",
    "    result[Genre] += unigrams[-N:]\n",
    "    \n",
    "print(result)"
   ]
  },
  {
   "cell_type": "code",
   "execution_count": 29,
   "metadata": {},
   "outputs": [
    {
     "data": {
      "text/html": [
       "<div>\n",
       "<style scoped>\n",
       "    .dataframe tbody tr th:only-of-type {\n",
       "        vertical-align: middle;\n",
       "    }\n",
       "\n",
       "    .dataframe tbody tr th {\n",
       "        vertical-align: top;\n",
       "    }\n",
       "\n",
       "    .dataframe thead th {\n",
       "        text-align: right;\n",
       "    }\n",
       "</style>\n",
       "<table border=\"1\" class=\"dataframe\">\n",
       "  <thead>\n",
       "    <tr style=\"text-align: right;\">\n",
       "      <th></th>\n",
       "      <th>action</th>\n",
       "      <th>adventure</th>\n",
       "      <th>comedy</th>\n",
       "      <th>crime</th>\n",
       "      <th>drama</th>\n",
       "      <th>horror</th>\n",
       "      <th>romance</th>\n",
       "      <th>thriller</th>\n",
       "      <th>western</th>\n",
       "    </tr>\n",
       "  </thead>\n",
       "  <tbody>\n",
       "    <tr>\n",
       "      <td>0</td>\n",
       "      <td>reddys</td>\n",
       "      <td>clans</td>\n",
       "      <td>betty</td>\n",
       "      <td>killer</td>\n",
       "      <td>farm</td>\n",
       "      <td>cat</td>\n",
       "      <td>know</td>\n",
       "      <td>implying</td>\n",
       "      <td>union</td>\n",
       "    </tr>\n",
       "    <tr>\n",
       "      <td>1</td>\n",
       "      <td>injustice</td>\n",
       "      <td>voyage</td>\n",
       "      <td>sachs</td>\n",
       "      <td>strangled</td>\n",
       "      <td>zamindar</td>\n",
       "      <td>frankensteins</td>\n",
       "      <td>suri</td>\n",
       "      <td>patrice</td>\n",
       "      <td>rangers</td>\n",
       "    </tr>\n",
       "    <tr>\n",
       "      <td>2</td>\n",
       "      <td>triads</td>\n",
       "      <td>greeks</td>\n",
       "      <td>pitch</td>\n",
       "      <td>racy</td>\n",
       "      <td>million</td>\n",
       "      <td>spirits</td>\n",
       "      <td>poonam</td>\n",
       "      <td>nishan</td>\n",
       "      <td>tomahawk</td>\n",
       "    </tr>\n",
       "    <tr>\n",
       "      <td>3</td>\n",
       "      <td>han</td>\n",
       "      <td>zenda</td>\n",
       "      <td>bowery</td>\n",
       "      <td>yard</td>\n",
       "      <td>1941</td>\n",
       "      <td>upstairs</td>\n",
       "      <td>rich</td>\n",
       "      <td>hamburg</td>\n",
       "      <td>custers</td>\n",
       "    </tr>\n",
       "    <tr>\n",
       "      <td>4</td>\n",
       "      <td>arts</td>\n",
       "      <td>ivory</td>\n",
       "      <td>murders</td>\n",
       "      <td>clerks</td>\n",
       "      <td>marries</td>\n",
       "      <td>room</td>\n",
       "      <td>kavi</td>\n",
       "      <td>safe</td>\n",
       "      <td>bandit</td>\n",
       "    </tr>\n",
       "    <tr>\n",
       "      <td>...</td>\n",
       "      <td>...</td>\n",
       "      <td>...</td>\n",
       "      <td>...</td>\n",
       "      <td>...</td>\n",
       "      <td>...</td>\n",
       "      <td>...</td>\n",
       "      <td>...</td>\n",
       "      <td>...</td>\n",
       "      <td>...</td>\n",
       "    </tr>\n",
       "    <tr>\n",
       "      <td>95</td>\n",
       "      <td>vijay</td>\n",
       "      <td>natives</td>\n",
       "      <td>kills</td>\n",
       "      <td>della</td>\n",
       "      <td>jewish</td>\n",
       "      <td>possessed</td>\n",
       "      <td>chetan</td>\n",
       "      <td>caller</td>\n",
       "      <td>saloon</td>\n",
       "    </tr>\n",
       "    <tr>\n",
       "      <td>96</td>\n",
       "      <td>ninja</td>\n",
       "      <td>dartagnan</td>\n",
       "      <td>killed</td>\n",
       "      <td>heist</td>\n",
       "      <td>relationship</td>\n",
       "      <td>vampires</td>\n",
       "      <td>varun</td>\n",
       "      <td>murders</td>\n",
       "      <td>stagecoach</td>\n",
       "    </tr>\n",
       "    <tr>\n",
       "      <td>97</td>\n",
       "      <td>henchmen</td>\n",
       "      <td>ship</td>\n",
       "      <td>comedy</td>\n",
       "      <td>criminal</td>\n",
       "      <td>kill</td>\n",
       "      <td>werewolf</td>\n",
       "      <td>reema</td>\n",
       "      <td>murder</td>\n",
       "      <td>indians</td>\n",
       "    </tr>\n",
       "    <tr>\n",
       "      <td>98</td>\n",
       "      <td>terrorists</td>\n",
       "      <td>pirates</td>\n",
       "      <td>stooges</td>\n",
       "      <td>triad</td>\n",
       "      <td>emotional</td>\n",
       "      <td>creature</td>\n",
       "      <td>rahul</td>\n",
       "      <td>phone</td>\n",
       "      <td>cattle</td>\n",
       "    </tr>\n",
       "    <tr>\n",
       "      <td>99</td>\n",
       "      <td>mithun</td>\n",
       "      <td>tarzan</td>\n",
       "      <td>sach</td>\n",
       "      <td>robbery</td>\n",
       "      <td>kills</td>\n",
       "      <td>vampire</td>\n",
       "      <td>love</td>\n",
       "      <td>killer</td>\n",
       "      <td>ranch</td>\n",
       "    </tr>\n",
       "  </tbody>\n",
       "</table>\n",
       "<p>100 rows × 9 columns</p>\n",
       "</div>"
      ],
      "text/plain": [
       "        action  adventure   comedy      crime         drama         horror  \\\n",
       "0       reddys      clans    betty     killer          farm            cat   \n",
       "1    injustice     voyage    sachs  strangled      zamindar  frankensteins   \n",
       "2       triads     greeks    pitch       racy       million        spirits   \n",
       "3          han      zenda   bowery       yard          1941       upstairs   \n",
       "4         arts      ivory  murders     clerks       marries           room   \n",
       "..         ...        ...      ...        ...           ...            ...   \n",
       "95       vijay    natives    kills      della        jewish      possessed   \n",
       "96       ninja  dartagnan   killed      heist  relationship       vampires   \n",
       "97    henchmen       ship   comedy   criminal          kill       werewolf   \n",
       "98  terrorists    pirates  stooges      triad     emotional       creature   \n",
       "99      mithun     tarzan     sach    robbery         kills        vampire   \n",
       "\n",
       "   romance  thriller     western  \n",
       "0     know  implying       union  \n",
       "1     suri   patrice     rangers  \n",
       "2   poonam    nishan    tomahawk  \n",
       "3     rich   hamburg     custers  \n",
       "4     kavi      safe      bandit  \n",
       "..     ...       ...         ...  \n",
       "95  chetan    caller      saloon  \n",
       "96   varun   murders  stagecoach  \n",
       "97   reema    murder     indians  \n",
       "98   rahul     phone      cattle  \n",
       "99    love    killer       ranch  \n",
       "\n",
       "[100 rows x 9 columns]"
      ]
     },
     "execution_count": 29,
     "metadata": {},
     "output_type": "execute_result"
    }
   ],
   "source": [
    "pd.DataFrame(result)"
   ]
  },
  {
   "cell_type": "code",
   "execution_count": 24,
   "metadata": {},
   "outputs": [
    {
     "data": {
      "text/plain": [
       "['outlaws',\n",
       " 'outlaw',\n",
       " 'marshal',\n",
       " 'posse',\n",
       " 'rancher',\n",
       " 'saloon',\n",
       " 'stagecoach',\n",
       " 'indians',\n",
       " 'cattle',\n",
       " 'ranch']"
      ]
     },
     "execution_count": 24,
     "metadata": {},
     "output_type": "execute_result"
    }
   ],
   "source": [
    "unigrams[-10:]"
   ]
  },
  {
   "cell_type": "code",
   "execution_count": 25,
   "metadata": {},
   "outputs": [
    {
     "data": {
      "text/plain": [
       "['american civil',\n",
       " 'hired gun',\n",
       " 'land baron',\n",
       " 'rides town',\n",
       " 'randolph scott',\n",
       " 'audie murphy',\n",
       " 'jesse james',\n",
       " 'civil war',\n",
       " 'cattle drive',\n",
       " 'wagon train']"
      ]
     },
     "execution_count": 25,
     "metadata": {},
     "output_type": "execute_result"
    }
   ],
   "source": [
    "bigrams[-10:]"
   ]
  },
  {
   "cell_type": "code",
   "execution_count": null,
   "metadata": {},
   "outputs": [],
   "source": []
  },
  {
   "cell_type": "code",
   "execution_count": 33,
   "metadata": {},
   "outputs": [],
   "source": [
    "from sklearn.ensemble import RandomForestClassifier\n",
    "from sklearn.naive_bayes import MultinomialNB\n",
    "from sklearn.svm import LinearSVC\n",
    "from sklearn.model_selection import cross_val_score\n",
    "\n",
    "models = [\n",
    "    RandomForestClassifier(n_estimators=200, max_depth=3, random_state=42),\n",
    "    LinearSVC(),\n",
    "    MultinomialNB(),\n",
    "]\n",
    "CV = 5\n",
    "cv_df = pd.DataFrame(index=range(CV * len(models)))\n",
    "entries = []\n",
    "for model in models:\n",
    "    model_name = model.__class__.__name__\n",
    "    accuracies = cross_val_score(model, features, labels, scoring='accuracy', cv=CV)\n",
    "    for fold_idx, accuracy in enumerate(accuracies):\n",
    "        entries.append((model_name, fold_idx, accuracy))\n",
    "cv_df = pd.DataFrame(entries, columns=['model_name', 'fold_idx', 'accuracy'])"
   ]
  },
  {
   "cell_type": "code",
   "execution_count": null,
   "metadata": {},
   "outputs": [],
   "source": []
  },
  {
   "cell_type": "code",
   "execution_count": 113,
   "metadata": {},
   "outputs": [
    {
     "data": {
      "text/plain": [
       "<matplotlib.axes._subplots.AxesSubplot at 0x1a7cd6dda0>"
      ]
     },
     "execution_count": 113,
     "metadata": {},
     "output_type": "execute_result"
    },
    {
     "data": {
      "text/plain": [
       "<matplotlib.axes._subplots.AxesSubplot at 0x1a7cd6dda0>"
      ]
     },
     "execution_count": 113,
     "metadata": {},
     "output_type": "execute_result"
    },
    {
     "data": {
      "image/png": "[encoded data removed]",
      "text/plain": [
       "<Figure size 432x288 with 1 Axes>"
      ]
     },
     "metadata": {
      "needs_background": "light"
     },
     "output_type": "display_data"
    }
   ],
   "source": [
    "import seaborn as sns\n",
    "sns.boxplot(x='model_name', y='accuracy', data=cv_df)\n",
    "sns.stripplot(x='model_name', y='accuracy', data=cv_df, \n",
    "              size=8, jitter=True, edgecolor=\"gray\", linewidth=2)\n",
    "plt.show()"
   ]
  },
  {
   "cell_type": "code",
   "execution_count": 31,
   "metadata": {},
   "outputs": [],
   "source": [
    "from sklearn.linear_model import LogisticRegression\n",
    "from sklearn.ensemble import RandomForestClassifier\n",
    "from sklearn.svm import LinearSVC"
   ]
  },
  {
   "cell_type": "code",
   "execution_count": 32,
   "metadata": {},
   "outputs": [
    {
     "ename": "NameError",
     "evalue": "name 'cv_df' is not defined",
     "output_type": "error",
     "traceback": [
      "\u001b[0;31m---------------------------------------------------------------------------\u001b[0m",
      "\u001b[0;31mNameError\u001b[0m                                 Traceback (most recent call last)",
      "\u001b[0;32m<ipython-input-32-a403454a8a85>\u001b[0m in \u001b[0;36m<module>\u001b[0;34m\u001b[0m\n\u001b[0;32m----> 1\u001b[0;31m \u001b[0mcv_df\u001b[0m\u001b[0;34m.\u001b[0m\u001b[0mgroupby\u001b[0m\u001b[0;34m(\u001b[0m\u001b[0;34m'model_name'\u001b[0m\u001b[0;34m)\u001b[0m\u001b[0;34m.\u001b[0m\u001b[0maccuracy\u001b[0m\u001b[0;34m.\u001b[0m\u001b[0mmean\u001b[0m\u001b[0;34m(\u001b[0m\u001b[0;34m)\u001b[0m\u001b[0;34m\u001b[0m\u001b[0;34m\u001b[0m\u001b[0m\n\u001b[0m",
      "\u001b[0;31mNameError\u001b[0m: name 'cv_df' is not defined"
     ]
    }
   ],
   "source": [
    "cv_df.groupby('model_name').accuracy.mean()"
   ]
  },
  {
   "cell_type": "code",
   "execution_count": null,
   "metadata": {},
   "outputs": [],
   "source": [
    "sm = SMOTE(random_state=27)\n",
    "X_train, y_train = sm.fit_sample(X_train, Y_train)"
   ]
  },
  {
   "cell_type": "code",
   "execution_count": null,
   "metadata": {},
   "outputs": [],
   "source": [
    "# finding the unigram and bigram that correlate with both genres"
   ]
  },
  {
   "cell_type": "code",
   "execution_count": 115,
   "metadata": {},
   "outputs": [
    {
     "data": {
      "text/plain": [
       "MultinomialNB(alpha=1.0, class_prior=None, fit_prior=True)"
      ]
     },
     "execution_count": 115,
     "metadata": {},
     "output_type": "execute_result"
    },
    {
     "name": "stdout",
     "output_type": "stream",
     "text": [
      "# 'action':\n",
      "  . Top unigrams:\n",
      "       . police\n",
      "       . kill\n",
      "  . Top bigrams:\n",
      "       . police officer\n",
      "       . falls love\n",
      "# 'adventure':\n",
      "  . Top unigrams:\n",
      "       . ship\n",
      "       . captain\n",
      "  . Top bigrams:\n",
      "       . united states\n",
      "       . net day\n",
      "# 'comedy':\n",
      "  . Top unigrams:\n",
      "       . new\n",
      "       . love\n",
      "  . Top bigrams:\n",
      "       . new york\n",
      "       . net day\n",
      "# 'crime':\n",
      "  . Top unigrams:\n",
      "       . police\n",
      "       . murder\n",
      "  . Top bigrams:\n",
      "       . prime suspect\n",
      "       . scotland yard\n",
      "# 'drama':\n",
      "  . Top unigrams:\n",
      "       . life\n",
      "       . family\n",
      "  . Top bigrams:\n",
      "       . falls love\n",
      "       . new york\n",
      "# 'horror':\n",
      "  . Top unigrams:\n",
      "       . body\n",
      "       . house\n",
      "  . Top bigrams:\n",
      "       . net day\n",
      "       . net morning\n",
      "# 'romance':\n",
      "  . Top unigrams:\n",
      "       . love\n",
      "       . father\n",
      "  . Top bigrams:\n",
      "       . falls love\n",
      "       . fall love\n",
      "# 'thriller':\n",
      "  . Top unigrams:\n",
      "       . police\n",
      "       . murder\n",
      "  . Top bigrams:\n",
      "       . net day\n",
      "       . new york\n",
      "# 'western':\n",
      "  . Top unigrams:\n",
      "       . town\n",
      "       . ranch\n",
      "  . Top bigrams:\n",
      "       . civil war\n",
      "       . wagon train\n"
     ]
    }
   ],
   "source": [
    "model.fit(features, labels)\n",
    "N = 2\n",
    "for Genre, genre_id in sorted(genre_to_id.items()):\n",
    "    indices = np.argsort(model.coef_[genre_id])\n",
    "    feature_names = np.array(tfidf.get_feature_names())[indices]\n",
    "    unigrams = [v for v in reversed(feature_names) if len(v.split(' ')) == 1][:N]\n",
    "    bigrams = [v for v in reversed(feature_names) if len(v.split(' ')) == 2][:N]\n",
    "    print(\"# '{}':\".format(Genre))\n",
    "    print(\"  . Top unigrams:\\n       . {}\".format('\\n       . '.join(unigrams)))\n",
    "    print(\"  . Top bigrams:\\n       . {}\".format('\\n       . '.join(bigrams)))"
   ]
  },
  {
   "cell_type": "code",
   "execution_count": null,
   "metadata": {},
   "outputs": [],
   "source": []
  },
  {
   "cell_type": "code",
   "execution_count": null,
   "metadata": {},
   "outputs": [],
   "source": []
  },
  {
   "cell_type": "code",
   "execution_count": null,
   "metadata": {},
   "outputs": [],
   "source": []
  },
  {
   "cell_type": "markdown",
   "metadata": {},
   "source": [
    "### Task #6: Build a pipeline to vectorize the date, then train and fit your models.\n",
    "You should train multiple types of models and try different combinations of the tuning parameters for each model to obtain the best one. You can use the SKlearn functions of GridSearchCV and Pipeline to help automate this process.\n"
   ]
  },
  {
   "cell_type": "markdown",
   "metadata": {},
   "source": [
    "### Task #7: Run predictions and analyze the results on the test set to identify the best model.  "
   ]
  },
  {
   "cell_type": "code",
   "execution_count": null,
   "metadata": {},
   "outputs": [],
   "source": [
    "# Form a prediction set\n"
   ]
  },
  {
   "cell_type": "code",
   "execution_count": null,
   "metadata": {},
   "outputs": [],
   "source": [
    "# Report the confusion matrix\n",
    "\n"
   ]
  },
  {
   "cell_type": "code",
   "execution_count": null,
   "metadata": {},
   "outputs": [],
   "source": [
    "# Print a classification report\n"
   ]
  },
  {
   "cell_type": "code",
   "execution_count": null,
   "metadata": {},
   "outputs": [],
   "source": [
    "# Print the overall accuracy and F1 score\n"
   ]
  },
  {
   "cell_type": "code",
   "execution_count": 70,
   "metadata": {},
   "outputs": [],
   "source": [
    "from sklearn.feature_extraction.text import CountVectorizer"
   ]
  },
  {
   "cell_type": "code",
   "execution_count": null,
   "metadata": {},
   "outputs": [],
   "source": [
    "import itertools\n",
    "import os\n",
    "\n",
    "%matplotlib inline\n",
    "import matplotlib.pyplot as plt\n",
    "import numpy as np\n",
    "import pandas as pd\n",
    "import tensorflow as tf\n",
    "\n",
    "from sklearn.preprocessing import LabelBinarizer, LabelEncoder\n",
    "from sklearn.metrics import confusion_matrix\n",
    "\n",
    "from tensorflow import keras\n",
    "from keras.models import Sequential\n",
    "from keras.layers import Dense, Activation, Dropout\n",
    "from keras.preprocessing import text, sequence\n",
    "from keras import utils\n",
    "\n",
    "train_size = int(len(train) * .7)\n",
    "train_posts = train['cleanplot'][:train_size]\n",
    "train_tags = train['Genre'][:train_size]\n",
    "\n",
    "test_posts = train['cleanplot'][train_size:]\n",
    "test_tags = train['Genre'][train_size:]\n",
    "\n",
    "max_words = 1000\n",
    "tokenize = text.Tokenizer(num_words=max_words, char_level=False)\n",
    "tokenize.fit_on_texts(train_posts) # only fit on train\n",
    "\n",
    "x_train = tokenize.texts_to_matrix(train_posts)\n",
    "x_test = tokenize.texts_to_matrix(test_posts)\n",
    "\n",
    "encoder = LabelEncoder()\n",
    "encoder.fit(train_tags)\n",
    "y_train = encoder.transform(train_tags)\n",
    "y_test = encoder.transform(test_tags)\n",
    "\n",
    "num_classes = np.max(y_train) + 1\n",
    "y_train = utils.to_categorical(y_train, num_classes)\n",
    "y_test = utils.to_categorical(y_test, num_classes)\n",
    "\n",
    "batch_size = 32\n",
    "epochs = 2\n",
    "\n",
    "# Build the model\n",
    "model = Sequential()\n",
    "model.add(Dense(512, input_shape=(max_words,)))\n",
    "model.add(Activation('relu'))\n",
    "model.add(Dropout(0.5))\n",
    "model.add(Dense(num_classes))\n",
    "model.add(Activation('softmax'))\n",
    "\n",
    "model.compile(loss='categorical_crossentropy',\n",
    "              optimizer='adam',\n",
    "              metrics=['accuracy'])\n",
    "              \n",
    "history = model.fit(x_train, y_train,\n",
    "                    batch_size=batch_size,\n",
    "                    epochs=epochs,\n",
    "                    verbose=1,\n",
    "                    validation_split=0.1)"
   ]
  },
  {
   "cell_type": "code",
   "execution_count": null,
   "metadata": {},
   "outputs": [],
   "source": [
    "#kERAS"
   ]
  },
  {
   "cell_type": "code",
   "execution_count": null,
   "metadata": {},
   "outputs": [],
   "source": [
    "data = shuffle(train)\n",
    "\n",
    "\n",
    "i = 8\n",
    "data_to_predict = data[:i].reset_index(drop = True)\n",
    "predict_species = data_to_predict.Species \n",
    "predict_species = np.array(predict_species)\n",
    "prediction = np.array(data_to_predict.drop(['Species'],axis= 1))\n",
    "\n",
    "data = data[i:].reset_index(drop = True)"
   ]
  },
  {
   "cell_type": "markdown",
   "metadata": {},
   "source": [
    "### Task #8: Refit the model to all of your data and then use that model to predict the holdout set. "
   ]
  },
  {
   "cell_type": "code",
   "execution_count": null,
   "metadata": {},
   "outputs": [],
   "source": []
  },
  {
   "cell_type": "code",
   "execution_count": null,
   "metadata": {},
   "outputs": [],
   "source": []
  },
  {
   "cell_type": "code",
   "execution_count": null,
   "metadata": {},
   "outputs": [],
   "source": []
  },
  {
   "cell_type": "code",
   "execution_count": null,
   "metadata": {},
   "outputs": [],
   "source": []
  },
  {
   "cell_type": "markdown",
   "metadata": {},
   "source": [
    "### #9: Save your predictions as a csv file that you will send to the instructional staff for evaluation. "
   ]
  },
  {
   "cell_type": "markdown",
   "metadata": {},
   "source": [
    "## Great job!"
   ]
  }
 ],
 "metadata": {
  "kernelspec": {
   "display_name": "Python 3",
   "language": "python",
   "name": "python3"
  },
  "language_info": {
   "codemirror_mode": {
    "name": "ipython",
    "version": 3
   },
   "file_extension": ".py",
   "mimetype": "text/x-python",
   "name": "python",
   "nbconvert_exporter": "python",
   "pygments_lexer": "ipython3",
   "version": "3.7.1"
  }
 },
 "nbformat": 4,
 "nbformat_minor": 2
}
